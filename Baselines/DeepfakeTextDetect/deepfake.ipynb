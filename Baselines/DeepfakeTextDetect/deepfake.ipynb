{
 "cells": [
  {
   "cell_type": "code",
   "execution_count": 9,
   "metadata": {},
   "outputs": [],
   "source": [
    "import torch\n",
    "import os\n",
    "from transformers import AutoModelForSequenceClassification, AutoTokenizer\n",
    "from deployment import preprocess, detect\n",
    "import json\n",
    "from sklearn.metrics import f1_score, confusion_matrix, precision_score, recall_score"
   ]
  },
  {
   "cell_type": "code",
   "execution_count": null,
   "metadata": {},
   "outputs": [],
   "source": [
    "device =\"cuda\" if torch.cuda.is_available() else \"cpu\" # use 'cuda:0' if GPU is available\n",
    "# model_dir = \"nealcly/detection-longformer\" # model in our paper\n",
    "model_dir = \"yaful/DeepfakeTextDetection\"  # model in the online demo\n",
    "tokenizer = AutoTokenizer.from_pretrained(model_dir)\n",
    "model = AutoModelForSequenceClassification.from_pretrained(model_dir).to(device)"
   ]
  },
  {
   "cell_type": "code",
   "execution_count": 4,
   "metadata": {},
   "outputs": [],
   "source": [
    "def classify_text(text):\n",
    "    # Detection\n",
    "    result = detect(text, tokenizer, model, device)\n",
    "\n",
    "    if (result == 'machine-generated'):\n",
    "        return 1\n",
    "    else:\n",
    "        return 0"
   ]
  },
  {
   "cell_type": "code",
   "execution_count": 12,
   "metadata": {},
   "outputs": [],
   "source": [
    "def predictor(ai_iclr, ai_neur, human_iclr, human_neur):\n",
    "    \"\"\"For prediction from the model\"\"\"\n",
    "    ai_iclr = list(json.load(open(ai_iclr)).values())\n",
    "    ai_neur = list(json.load(open(ai_neur)).values())\n",
    "    human_iclr = list(json.load(open(human_iclr)).values())\n",
    "    human_neur = list(json.load(open(human_neur)).values())\n",
    "\n",
    "    ai_iclr_pred = [classify_text(text) for text in ai_iclr[608:]]\n",
    "    ai_neur_pred = [classify_text(text) for text in ai_neur[576:]]\n",
    "    human_iclr_pred = [classify_text(a) for text in human_iclr[608:] for a in text]\n",
    "    human_neur_pred = [classify_text(a) for text in human_neur[576:] for a in text]\n",
    "\n",
    "    actual = [1 for i in ai_iclr[608:]]  + [0 for revw in human_iclr[608:] for i in revw]\n",
    "    predicted = ai_iclr_pred + human_iclr_pred\n",
    "\n",
    "    print(\"++++++++++++++++ ICLR ++++++++++++++++\")\n",
    "    print(\"Confusion Matrix: \", confusion_matrix(actual, predicted))\n",
    "    print(\"F1 Score: \", f1_score(actual, predicted))\n",
    "    print(\"Precision: \", precision_score(actual, predicted))\n",
    "    print(\"Recall: \", recall_score(actual, predicted))\n",
    "\n",
    "    actual = [1 for i in ai_neur[576:]]  + [0 for revw in human_neur[576:] for i in revw]\n",
    "    predicted = ai_neur_pred + human_neur_pred\n",
    "    print(\"\\n\")\n",
    "    print(\"++++++++++++++++ NEUR ++++++++++++++++\")\n",
    "    print(\"Confusion Matrix: \", confusion_matrix(actual, predicted))\n",
    "    print(\"F1 Score: \", f1_score(actual, predicted))\n",
    "    print(\"Precision: \", precision_score(actual, predicted))\n",
    "    print(\"Recall: \", recall_score(actual, predicted))\n",
    "    "
   ]
  },
  {
   "cell_type": "markdown",
   "metadata": {},
   "source": [
    "## Actual Reviews:-"
   ]
  },
  {
   "cell_type": "code",
   "execution_count": null,
   "metadata": {},
   "outputs": [],
   "source": [
    "predictor(\"../Dataset/ai_iclr.json\",\"../Dataset/ai_neur.json\",\"../Dataset/human_iclr.json\",\"../Dataset/human_neur.json\")"
   ]
  },
  {
   "cell_type": "markdown",
   "metadata": {},
   "source": [
    "## Synonym Attack (Adjective Attack):-"
   ]
  },
  {
   "cell_type": "code",
   "execution_count": null,
   "metadata": {},
   "outputs": [],
   "source": [
    "predictor(\"Dataset/Attacked Dataset/Adjective Attack/ai_iclr.json\",\"Dataset/Attacked Dataset/Adjective Attack/ai_neur.json\",\"Dataset/Attacked Dataset/Adjective Attack/human_iclr.json\",\"Dataset/Attacked Dataset/Adjective Attack/human_neur.json\")"
   ]
  },
  {
   "cell_type": "markdown",
   "metadata": {},
   "source": [
    "## Paraphrasing Attack:-"
   ]
  },
  {
   "cell_type": "code",
   "execution_count": null,
   "metadata": {},
   "outputs": [],
   "source": [
    "predictor(\"Dataset/Attacked Dataset/Paraphrasing Attack/para_ai_iclr.json\",\"Dataset/Attacked Dataset/Paraphrasing Attack/para_ai_neur.json\",\"Dataset/Attacked Dataset/Paraphrasing Attack/para_human_iclr.json\",\"Dataset/Attacked Dataset/Paraphrasing Attack/para_human_neur.json\")"
   ]
  },
  {
   "cell_type": "markdown",
   "metadata": {},
   "source": [
    "## Modified Paraphrasing Attack:-"
   ]
  },
  {
   "cell_type": "code",
   "execution_count": null,
   "metadata": {},
   "outputs": [],
   "source": [
    "predictor(\"Dataset/Attacked Dataset/Modified Paraphrasing Attack/Modified Paraphrased/ai_iclr_para_modified.json\",\"Dataset/Attacked Dataset/Modified Paraphrasing Attack/Modified Paraphrased/ai_neur_para_modified.json\",\"Dataset/Attacked Dataset/Modified Paraphrasing Attack/Modified Paraphrased/human_iclr_para_modified.json\",\"Dataset/Attacked Dataset/Modified Paraphrasing Attack/Modified Paraphrased/human_neur_para_modified.json\")"
   ]
  },
  {
   "cell_type": "code",
   "execution_count": null,
   "metadata": {},
   "outputs": [],
   "source": []
  }
 ],
 "metadata": {
  "kernelspec": {
   "display_name": "base",
   "language": "python",
   "name": "python3"
  },
  "language_info": {
   "codemirror_mode": {
    "name": "ipython",
    "version": 3
   },
   "file_extension": ".py",
   "mimetype": "text/x-python",
   "name": "python",
   "nbconvert_exporter": "python",
   "pygments_lexer": "ipython3",
   "version": "3.1.undefined"
  }
 },
 "nbformat": 4,
 "nbformat_minor": 2
}
