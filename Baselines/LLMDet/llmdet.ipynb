{
 "cells": [
  {
   "cell_type": "markdown",
   "metadata": {},
   "source": [
    "# LLMDet"
   ]
  },
  {
   "cell_type": "code",
   "execution_count": 1,
   "metadata": {},
   "outputs": [],
   "source": [
    "import os\n",
    "import llmdet\n",
    "from tqdm import tqdm\n",
    "import json\n",
    "from sklearn.metrics import f1_score, confusion_matrix, precision_score, recall_score"
   ]
  },
  {
   "cell_type": "code",
   "execution_count": 11,
   "metadata": {},
   "outputs": [
    {
     "data": {
      "application/vnd.jupyter.widget-view+json": {
       "model_id": "88eca09b5af54741a8810f43e96c219c",
       "version_major": 2,
       "version_minor": 0
      },
      "text/plain": [
       "Computing checksums: 100%|##########| 1/1 [00:19<00:00, 19.84s/it]"
      ]
     },
     "metadata": {},
     "output_type": "display_data"
    }
   ],
   "source": [
    "llmdet.load_probability()"
   ]
  },
  {
   "cell_type": "code",
   "execution_count": 2,
   "metadata": {},
   "outputs": [],
   "source": [
    "def classify_text(text):\n",
    "    max_score = 0\n",
    "    result = llmdet.detect(text)\n",
    "    human_score = result[0]['Human_write']\n",
    "    for key, val in result[0].items():\n",
    "        max_score = max(max_score, val)\n",
    "    if human_score == max_score:\n",
    "        return 0\n",
    "    else:\n",
    "        return 1"
   ]
  },
  {
   "cell_type": "code",
   "execution_count": 13,
   "metadata": {},
   "outputs": [],
   "source": [
    "def predictor(ai_iclr,ai_neur, human_iclr, human_neur):\n",
    "    ai_iclr = list(json.load(open(ai_iclr)).values())\n",
    "    ai_neur = list(json.load(open(ai_neur)).values())\n",
    "    human_iclr = list(json.load(open(human_iclr)).values())\n",
    "    human_neur = list(json.load(open(human_neur)).values())\n",
    "\n",
    "    ai_iclr_pred = [classify_text(text) for text in ai_iclr[608:]]\n",
    "    ai_neur_pred = [classify_text(text) for text in ai_neur[576:]]\n",
    "    human_iclr_pred = [classify_text(a) for text in human_iclr[608:] for a in text]\n",
    "    human_neur_pred = [classify_text(a) for text in human_neur[576:] for a in text]\n",
    "\n",
    "    actual = [1 for i in ai_iclr[608:]]  + [0 for revw in human_iclr[608:] for i in revw]\n",
    "    predicted = ai_iclr_pred + human_iclr_pred\n",
    "\n",
    "    print(\"++++++++++++++++ ICLR ++++++++++++++++\")\n",
    "    print(\"Confusion Matrix: \", confusion_matrix(actual, predicted))\n",
    "    print(\"F1 Score: \", f1_score(actual, predicted))\n",
    "    print(\"Precision: \", precision_score(actual, predicted))\n",
    "    print(\"Recall: \", recall_score(actual, predicted))\n",
    "\n",
    "    actual = [1 for i in ai_neur[576:]]  + [0 for revw in human_neur[576:] for i in revw]\n",
    "    predicted = ai_neur_pred + human_neur_pred\n",
    "    print(\"\\n\")\n",
    "    print(\"++++++++++++++++ NEUR ++++++++++++++++\")\n",
    "    print(\"Confusion Matrix: \", confusion_matrix(actual, predicted))\n",
    "    print(\"F1 Score: \", f1_score(actual, predicted))\n",
    "    print(\"Precision: \", precision_score(actual, predicted))\n",
    "    print(\"Recall: \", recall_score(actual, predicted))"
   ]
  },
  {
   "cell_type": "markdown",
   "metadata": {},
   "source": [
    "## Actual Reviews:-"
   ]
  },
  {
   "cell_type": "code",
   "execution_count": null,
   "metadata": {},
   "outputs": [],
   "source": [
    "predictor(\"../Dataset/ai_iclr.json\",\"../Dataset/ai_neur.json\",\"../Dataset/human_iclr.json\",\"../Dataset/human_neur.json\")"
   ]
  },
  {
   "cell_type": "markdown",
   "metadata": {},
   "source": [
    "## Synonym Attack:-"
   ]
  },
  {
   "cell_type": "code",
   "execution_count": null,
   "metadata": {},
   "outputs": [],
   "source": [
    "predictor(\"Dataset/Attacked Dataset/Adjective Attack/ai_iclr.json\",\"Dataset/Attacked Dataset/Adjective Attack/ai_neur.json\",\"Dataset/Attacked Dataset/Adjective Attack/human_iclr.json\",\"Dataset/Attacked Dataset/Adjective Attack/human_neur.json\")"
   ]
  },
  {
   "cell_type": "markdown",
   "metadata": {},
   "source": [
    "## Paraphrasing Attack:-"
   ]
  },
  {
   "cell_type": "code",
   "execution_count": null,
   "metadata": {},
   "outputs": [],
   "source": [
    "predictor(\"Dataset/Attacked Dataset/Paraphrasing Attack/para_ai_iclr.json\",\"Dataset/Attacked Dataset/Paraphrasing Attack/para_ai_neur.json\",\"Dataset/Attacked Dataset/Paraphrasing Attack/para_human_iclr.json\",\"Dataset/Attacked Dataset/Paraphrasing Attack/para_human_neur.json\")"
   ]
  },
  {
   "cell_type": "markdown",
   "metadata": {},
   "source": [
    "## Modified Paraphrasing Attack:-"
   ]
  },
  {
   "cell_type": "code",
   "execution_count": null,
   "metadata": {},
   "outputs": [],
   "source": [
    "predictor(\"Dataset/Attacked Dataset/Modified Paraphrasing Attack/Modified Paraphrased/ai_iclr_para_modified.json\",\"Dataset/Attacked Dataset/Modified Paraphrasing Attack/Modified Paraphrased/ai_neur_para_modified.json\",\"Dataset/Attacked Dataset/Modified Paraphrasing Attack/Modified Paraphrased/human_iclr_para_modified.json\",\"Dataset/Attacked Dataset/Modified Paraphrasing Attack/Modified Paraphrased/human_neur_para_modified.json\")"
   ]
  }
 ],
 "metadata": {
  "kernelspec": {
   "display_name": "base",
   "language": "python",
   "name": "python3"
  },
  "language_info": {
   "codemirror_mode": {
    "name": "ipython",
    "version": 3
   },
   "file_extension": ".py",
   "mimetype": "text/x-python",
   "name": "python",
   "nbconvert_exporter": "python",
   "pygments_lexer": "ipython3",
   "version": "3.11.9"
  }
 },
 "nbformat": 4,
 "nbformat_minor": 2
}
